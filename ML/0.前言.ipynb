{
 "cells": [
  {
   "cell_type": "markdown",
   "metadata": {},
   "source": [
    "# 开始\n",
    "\n",
    "我是一位游戏服务器程序员。\n",
    "正在学习人工智能。计划记录自己的学习历程。\n",
    "目的：\n",
    "\n",
    "- 记录学习中遇到的坑和感悟。 希望可以帮助到后来人。\n",
    "- 记录自己的学习历程，或许可以为机器学习算法提供灵感\n",
    "\n",
    "行文结构\n",
    "1. 文章概览. 毕竟大家时间都很宝贵.方便用最短的时间判断文章是否有用. 我认为尊重对方的时间,是对对方的最基本的尊重\n",
    "2. 详细介绍. 有基于时间顺序的客观描述, 有自己的感悟. 希望对大家有用,同时也是自己学习旅程的记录.\n",
    "\n",
    "# 心态建设\n",
    "  我光入门就入门了好久(3,4个月的样子).我觉得这门技术不是那种可以速成的.要想坚持.热爱是很重要的.希望有一天这个爱好可以养活我 ^_^"
   ]
  },
  {
   "cell_type": "markdown",
   "metadata": {},
   "source": [
    "# 目录\n"
   ]
  }
 ],
 "metadata": {
  "kernelspec": {
   "display_name": "Python 3",
   "language": "python",
   "name": "python3"
  },
  "language_info": {
   "codemirror_mode": {
    "name": "ipython",
    "version": 3
   },
   "file_extension": ".py",
   "mimetype": "text/x-python",
   "name": "python",
   "nbconvert_exporter": "python",
   "pygments_lexer": "ipython3",
   "version": "3.7.3"
  }
 },
 "nbformat": 4,
 "nbformat_minor": 2
}
