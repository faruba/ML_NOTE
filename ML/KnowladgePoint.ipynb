{
 "cells": [
  {
   "cell_type": "code",
   "execution_count": 3,
   "metadata": {},
   "outputs": [],
   "source": [
    "import matplotlib.pyplot as plt\n",
    "import networkx as nx\n",
    "    \n",
    "%matplotlib inline"
   ]
  },
  {
   "cell_type": "code",
   "execution_count": 4,
   "metadata": {},
   "outputs": [
    {
     "name": "stdout",
     "output_type": "stream",
     "text": [
      "lanl.edges not found\n"
     ]
    },
    {
     "ename": "FileNotFoundError",
     "evalue": "[Errno 2] No such file or directory: 'lanl_routes.edgelist'",
     "output_type": "error",
     "traceback": [
      "\u001b[0;31m---------------------------------------------------------------------------\u001b[0m",
      "\u001b[0;31mFileNotFoundError\u001b[0m                         Traceback (most recent call last)",
      "\u001b[0;32m<ipython-input-4-338321bf952a>\u001b[0m in \u001b[0;36m<module>\u001b[0;34m\u001b[0m\n\u001b[1;32m     28\u001b[0m \u001b[0;32mif\u001b[0m \u001b[0m__name__\u001b[0m \u001b[0;34m==\u001b[0m \u001b[0;34m'__main__'\u001b[0m\u001b[0;34m:\u001b[0m\u001b[0;34m\u001b[0m\u001b[0;34m\u001b[0m\u001b[0m\n\u001b[1;32m     29\u001b[0m \u001b[0;34m\u001b[0m\u001b[0m\n\u001b[0;32m---> 30\u001b[0;31m     \u001b[0mG\u001b[0m \u001b[0;34m=\u001b[0m \u001b[0mlanl_graph\u001b[0m\u001b[0;34m(\u001b[0m\u001b[0;34m)\u001b[0m\u001b[0;34m\u001b[0m\u001b[0;34m\u001b[0m\u001b[0m\n\u001b[0m\u001b[1;32m     31\u001b[0m \u001b[0;34m\u001b[0m\u001b[0m\n\u001b[1;32m     32\u001b[0m     print(\"graph has %d nodes with %d edges\"\n",
      "\u001b[0;32m<ipython-input-4-338321bf952a>\u001b[0m in \u001b[0;36mlanl_graph\u001b[0;34m()\u001b[0m\n\u001b[1;32m      3\u001b[0m     \"\"\"\n\u001b[1;32m      4\u001b[0m     \u001b[0;32mtry\u001b[0m\u001b[0;34m:\u001b[0m\u001b[0;34m\u001b[0m\u001b[0;34m\u001b[0m\u001b[0m\n\u001b[0;32m----> 5\u001b[0;31m         \u001b[0mfh\u001b[0m \u001b[0;34m=\u001b[0m \u001b[0mopen\u001b[0m\u001b[0;34m(\u001b[0m\u001b[0;34m'lanl_routes.edgelist'\u001b[0m\u001b[0;34m,\u001b[0m \u001b[0;34m'r'\u001b[0m\u001b[0;34m)\u001b[0m\u001b[0;34m\u001b[0m\u001b[0;34m\u001b[0m\u001b[0m\n\u001b[0m\u001b[1;32m      6\u001b[0m     \u001b[0;32mexcept\u001b[0m \u001b[0mIOError\u001b[0m\u001b[0;34m:\u001b[0m\u001b[0;34m\u001b[0m\u001b[0;34m\u001b[0m\u001b[0m\n\u001b[1;32m      7\u001b[0m         \u001b[0mprint\u001b[0m\u001b[0;34m(\u001b[0m\u001b[0;34m\"lanl.edges not found\"\u001b[0m\u001b[0;34m)\u001b[0m\u001b[0;34m\u001b[0m\u001b[0;34m\u001b[0m\u001b[0m\n",
      "\u001b[0;31mFileNotFoundError\u001b[0m: [Errno 2] No such file or directory: 'lanl_routes.edgelist'"
     ]
    }
   ],
   "source": [
    "def lanl_graph():\n",
    "    \"\"\" Return the lanl internet view graph from lanl.edges\n",
    "    \"\"\"\n",
    "    try:\n",
    "        fh = open('lanl_routes.edgelist', 'r')\n",
    "    except IOError:\n",
    "        print(\"lanl.edges not found\")\n",
    "        raise\n",
    "\n",
    "    G = nx.Graph()\n",
    "\n",
    "    time = {}\n",
    "    time[0] = 0  # assign 0 to center node\n",
    "    for line in fh.readlines():\n",
    "        (head, tail, rtt) = line.split()\n",
    "        G.add_edge(int(head), int(tail))\n",
    "        time[int(head)] = float(rtt)\n",
    "\n",
    "    # get largest component and assign ping times to G0time dictionary\n",
    "    G0 = sorted(nx.connected_component_subgraphs(G), key=len, reverse=True)[0]\n",
    "    G0.rtt = {}\n",
    "    for n in G0:\n",
    "        G0.rtt[n] = time[n]\n",
    "\n",
    "    return G0\n",
    "\n",
    "\n",
    "if __name__ == '__main__':\n",
    "\n",
    "    G = lanl_graph()\n",
    "\n",
    "    print(\"graph has %d nodes with %d edges\"\n",
    "          % (nx.number_of_nodes(G), nx.number_of_edges(G)))\n",
    "    print(nx.number_connected_components(G), \"connected components\")\n",
    "\n",
    "    plt.figure(figsize=(8, 8))\n",
    "    # use graphviz to find radial layout\n",
    "    pos = graphviz_layout(G, prog=\"twopi\", root=0)\n",
    "    # draw nodes, coloring by rtt ping time\n",
    "    nx.draw(G, pos,\n",
    "            node_color=[G.rtt[v] for v in G],\n",
    "            with_labels=False,\n",
    "            alpha=0.5,\n",
    "            node_size=15)\n",
    "    # adjust the plot limits\n",
    "    xmax = 1.02 * max(xx for xx, yy in pos.values())\n",
    "    ymax = 1.02 * max(yy for xx, yy in pos.values())\n",
    "    plt.xlim(0, xmax)\n",
    "    plt.ylim(0, ymax)\n",
    "    plt.show()"
   ]
  },
  {
   "cell_type": "code",
   "execution_count": null,
   "metadata": {},
   "outputs": [],
   "source": []
  }
 ],
 "metadata": {
  "kernelspec": {
   "display_name": "Python 3",
   "language": "python",
   "name": "python3"
  },
  "language_info": {
   "codemirror_mode": {
    "name": "ipython",
    "version": 3
   },
   "file_extension": ".py",
   "mimetype": "text/x-python",
   "name": "python",
   "nbconvert_exporter": "python",
   "pygments_lexer": "ipython3",
   "version": "3.7.3"
  }
 },
 "nbformat": 4,
 "nbformat_minor": 2
}
